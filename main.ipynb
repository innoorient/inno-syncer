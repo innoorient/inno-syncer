{
 "cells": [
  {
   "cell_type": "code",
   "execution_count": 1,
   "metadata": {},
   "outputs": [
    {
     "name": "stderr",
     "output_type": "stream",
     "text": [
      "Warning: Ignoring non-Spark config property: hive.metastore.uris\n"
     ]
    },
    {
     "name": "stdout",
     "output_type": "stream",
     "text": [
      "24/03/30 14:50:10 WARN Utils: Your hostname, manhtct resolves to a loopback address: 127.0.1.1; using 172.31.155.66 instead (on interface eth0)\n",
      "24/03/30 14:50:10 WARN Utils: Set SPARK_LOCAL_IP if you need to bind to another address\n",
      ":: loading settings :: url = jar:file:/home/manhtct/innoorient/inno_syncer/.venv/lib/python3.10/site-packages/pyspark/jars/ivy-2.5.0.jar!/org/apache/ivy/core/settings/ivysettings.xml\n"
     ]
    },
    {
     "name": "stderr",
     "output_type": "stream",
     "text": [
      "Ivy Default Cache set to: /home/manhtct/.ivy2/cache\n",
      "The jars for the packages stored in: /home/manhtct/.ivy2/jars\n",
      "org.apache.iceberg#iceberg-spark-runtime-3.3_2.12 added as a dependency\n",
      "org.postgresql#postgresql added as a dependency\n",
      ":: resolving dependencies :: org.apache.spark#spark-submit-parent-b7e8dc8b-737c-4e77-8bcf-cd9ce563e7df;1.0\n",
      "\tconfs: [default]\n",
      "\tfound org.apache.iceberg#iceberg-spark-runtime-3.3_2.12;1.4.3 in central\n",
      "\tfound org.postgresql#postgresql;42.7.2 in central\n",
      "\tfound org.checkerframework#checker-qual;3.42.0 in central\n",
      ":: resolution report :: resolve 125ms :: artifacts dl 7ms\n",
      "\t:: modules in use:\n",
      "\torg.apache.iceberg#iceberg-spark-runtime-3.3_2.12;1.4.3 from central in [default]\n",
      "\torg.checkerframework#checker-qual;3.42.0 from central in [default]\n",
      "\torg.postgresql#postgresql;42.7.2 from central in [default]\n",
      "\t---------------------------------------------------------------------\n",
      "\t|                  |            modules            ||   artifacts   |\n",
      "\t|       conf       | number| search|dwnlded|evicted|| number|dwnlded|\n",
      "\t---------------------------------------------------------------------\n",
      "\t|      default     |   3   |   0   |   0   |   0   ||   3   |   0   |\n",
      "\t---------------------------------------------------------------------\n",
      ":: retrieving :: org.apache.spark#spark-submit-parent-b7e8dc8b-737c-4e77-8bcf-cd9ce563e7df\n",
      "\tconfs: [default]\n",
      "\t0 artifacts copied, 3 already retrieved (0kB/6ms)\n"
     ]
    },
    {
     "name": "stdout",
     "output_type": "stream",
     "text": [
      "24/03/30 14:50:20 WARN NativeCodeLoader: Unable to load native-hadoop library for your platform... using builtin-java classes where applicable\n"
     ]
    },
    {
     "name": "stderr",
     "output_type": "stream",
     "text": [
      "Setting default log level to \"WARN\".\n",
      "To adjust logging level use sc.setLogLevel(newLevel). For SparkR, use setLogLevel(newLevel).\n"
     ]
    },
    {
     "data": {
      "text/plain": [
       "DataFrame[]"
      ]
     },
     "execution_count": 1,
     "metadata": {},
     "output_type": "execute_result"
    }
   ],
   "source": [
    "import findspark\n",
    "from pathlib import Path\n",
    "\n",
    "from pyspark.sql import SparkSession\n",
    "from pyspark import SparkConf\n",
    "\n",
    "from inno_syncer.main import start_job\n",
    "from inno_syncer.sync.config import get_config\n",
    "\n",
    "this_dir = Path().cwd()\n",
    "\n",
    "\n",
    "findspark.init()\n",
    "\n",
    "conf = SparkConf()\n",
    "conf.set(\n",
    "    \"spark.jars.packages\",\n",
    "    \"org.apache.iceberg:iceberg-spark-runtime-3.3_2.12:1.4.3,org.postgresql:postgresql:42.7.2\",\n",
    ")\n",
    "conf.set(\"spark.sql.sources.default\", \"iceberg\")\n",
    "conf.set(\"spark.sql.execution.pyarrow.enabled\", \"true\")\n",
    "conf.set(\"spark.sql.catalog.spark_catalog\", \"org.apache.iceberg.spark.SparkSessionCatalog\")\n",
    "conf.set(\"spark.sql.catalog.spark_catalog.type\", \"hive\")\n",
    "conf.set(\"hive.metastore.uris\", \"thrift://localhost:9083\")\n",
    "conf.set(\n",
    "    \"spark.sql.extensions\",\n",
    "    \"org.apache.iceberg.spark.extensions.IcebergSparkSessionExtensions\",\n",
    ")\n",
    "spark = SparkSession.builder.config(conf=conf).enableHiveSupport().getOrCreate()\n",
    "spark.sparkContext.setLogLevel(\"ERROR\")\n",
    "spark.sql(\"USE spark_catalog;\")\n"
   ]
  },
  {
   "cell_type": "code",
   "execution_count": 3,
   "metadata": {},
   "outputs": [
    {
     "name": "stdout",
     "output_type": "stream",
     "text": [
      "+----------+\n",
      "| namespace|\n",
      "+----------+\n",
      "|   default|\n",
      "|github_raw|\n",
      "| mysql_raw|\n",
      "+----------+\n",
      "\n"
     ]
    }
   ],
   "source": [
    "spark.sql(\"SHOW DATABASES\").show()"
   ]
  },
  {
   "cell_type": "code",
   "execution_count": 5,
   "metadata": {},
   "outputs": [
    {
     "name": "stdout",
     "output_type": "stream",
     "text": [
      "+----------+----------+-----------+\n",
      "| namespace| tableName|isTemporary|\n",
      "+----------+----------+-----------+\n",
      "|github_raw|    commit|      false|\n",
      "|github_raw|repository|      false|\n",
      "+----------+----------+-----------+\n",
      "\n"
     ]
    }
   ],
   "source": [
    "spark.sql(\"SHOW TABLES IN spark_catalog.github_raw;\").show()"
   ]
  },
  {
   "cell_type": "code",
   "execution_count": 16,
   "metadata": {},
   "outputs": [
    {
     "name": "stdout",
     "output_type": "stream",
     "text": [
      "+--------------------+-------------+-------------------+--------------------+--------------------+--------------------+-------------------+--------------------+-------------------+--------------------+\n",
      "|                 sha|repository_id|     committer_date|        author_email|         author_name|     committer_email|     committer_name|             message|        author_date|    _fivetran_synced|\n",
      "+--------------------+-------------+-------------------+--------------------+--------------------+--------------------+-------------------+--------------------+-------------------+--------------------+\n",
      "|4647bf23ac656195d...|    605490786|2023-02-23 16:15:02|19133035@student....| Trần Công Tuấn Mạnh|19133035@student....|Trần Công Tuấn Mạnh|        first commit|2023-02-23 16:15:02|2024-02-28 09:39:...|\n",
      "|0ef98692d584a0884...|    730033690|2022-07-12 03:15:14|koli.mikael@gmail...|         Mikael Koli|koli.mikael@gmail...|        Mikael Koli|  rem: Pandas import|2022-07-12 03:15:14|2024-02-28 12:38:...|\n",
      "|5b377403992ef1742...|    730033690|2022-08-14 14:06:25|koli.mikael@gmail...|         Mikael Koli|koli.mikael@gmail...|        Mikael Koli| docs: add type hint|2022-08-14 14:06:25|2024-02-28 12:42:...|\n",
      "|f84b0cd64fe789551...|    730033690|2022-07-17 23:35:13|koli.mikael@gmail...|         Mikael Koli|koli.mikael@gmail...|        Mikael Koli|test: fix non-fai...|2022-07-17 23:35:13|2024-02-28 12:38:...|\n",
      "|9f8d1061358c1620e...|    422850689|2021-11-02 17:50:52|76274500+Phatdat0...|           Phatdat01|  noreply@github.com|             GitHub|Create README.md\\...|2021-11-02 17:50:52|2024-02-28 13:39:...|\n",
      "|2fae76aa1ab4c7c28...|    730033690|2022-11-29 03:44:14|koli.mikael@gmail...|         Mikael Koli|koli.mikael@gmail...|        Mikael Koli|fix: terminate sp...|2022-11-29 03:44:14|2024-02-28 12:43:...|\n",
      "|86760504708ddcba5...|    730033690|2021-09-04 12:34:06|koli.mikael@gmail...|         Mikael Koli|koli.mikael@gmail...|        Mikael Koli|docs: added CSS f...|2021-09-04 12:34:06|2024-02-28 12:36:...|\n",
      "|41b48bd79ba0ea339...|    730033690|2022-11-21 05:12:10|koli.mikael@gmail...|         Mikael Koli|  noreply@github.com|             GitHub|CI: add release w...|2022-11-21 05:12:10|2024-02-28 12:44:...|\n",
      "|86303a72ed89e1d95...|    623141470|2020-09-04 16:03:44|emanuelioannazare...|            EINazare|emanuelioannazare...|           EINazare|refactor: working...|2020-09-04 16:03:44|2024-02-28 11:38:...|\n",
      "|c7243d39db6be21ff...|    730033690|2022-08-10 06:13:54|70811425+carlosm2...|Carlos Armando Ma...|  noreply@github.com|             GitHub|Fix: Typo in docs...|2022-08-10 06:13:54|2024-02-28 12:42:...|\n",
      "+--------------------+-------------+-------------------+--------------------+--------------------+--------------------+-------------------+--------------------+-------------------+--------------------+\n",
      "\n"
     ]
    }
   ],
   "source": [
    "spark.sql(\"SELECT * FROM spark_catalog.github_raw.commit LIMIT 10\").show()"
   ]
  },
  {
   "cell_type": "code",
   "execution_count": 8,
   "metadata": {},
   "outputs": [
    {
     "name": "stdout",
     "output_type": "stream",
     "text": [
      "+--------------+--------------------+\n",
      "|     info_name|          info_value|\n",
      "+--------------+--------------------+\n",
      "|Namespace Name|          github_raw|\n",
      "|       Comment|                    |\n",
      "|      Location|file:/home/manhtc...|\n",
      "|         Owner|             manhtct|\n",
      "|    Properties|                    |\n",
      "+--------------+--------------------+\n",
      "\n"
     ]
    }
   ],
   "source": [
    "spark.sql(\"DESC DATABASE EXTENDED spark_catalog.github_raw;\").show()"
   ]
  },
  {
   "cell_type": "code",
   "execution_count": 12,
   "metadata": {},
   "outputs": [
    {
     "data": {
      "text/html": [
       "<div>\n",
       "<style scoped>\n",
       "    .dataframe tbody tr th:only-of-type {\n",
       "        vertical-align: middle;\n",
       "    }\n",
       "\n",
       "    .dataframe tbody tr th {\n",
       "        vertical-align: top;\n",
       "    }\n",
       "\n",
       "    .dataframe thead th {\n",
       "        text-align: right;\n",
       "    }\n",
       "</style>\n",
       "<table border=\"1\" class=\"dataframe\">\n",
       "  <thead>\n",
       "    <tr style=\"text-align: right;\">\n",
       "      <th></th>\n",
       "      <th>col_name</th>\n",
       "      <th>data_type</th>\n",
       "      <th>comment</th>\n",
       "    </tr>\n",
       "  </thead>\n",
       "  <tbody>\n",
       "    <tr>\n",
       "      <th>0</th>\n",
       "      <td>sha</td>\n",
       "      <td>string</td>\n",
       "      <td></td>\n",
       "    </tr>\n",
       "    <tr>\n",
       "      <th>1</th>\n",
       "      <td>repository_id</td>\n",
       "      <td>bigint</td>\n",
       "      <td></td>\n",
       "    </tr>\n",
       "    <tr>\n",
       "      <th>2</th>\n",
       "      <td>committer_date</td>\n",
       "      <td>timestamp</td>\n",
       "      <td></td>\n",
       "    </tr>\n",
       "    <tr>\n",
       "      <th>3</th>\n",
       "      <td>author_email</td>\n",
       "      <td>string</td>\n",
       "      <td></td>\n",
       "    </tr>\n",
       "    <tr>\n",
       "      <th>4</th>\n",
       "      <td>author_name</td>\n",
       "      <td>string</td>\n",
       "      <td></td>\n",
       "    </tr>\n",
       "    <tr>\n",
       "      <th>5</th>\n",
       "      <td>committer_email</td>\n",
       "      <td>string</td>\n",
       "      <td></td>\n",
       "    </tr>\n",
       "    <tr>\n",
       "      <th>6</th>\n",
       "      <td>committer_name</td>\n",
       "      <td>string</td>\n",
       "      <td></td>\n",
       "    </tr>\n",
       "    <tr>\n",
       "      <th>7</th>\n",
       "      <td>message</td>\n",
       "      <td>string</td>\n",
       "      <td></td>\n",
       "    </tr>\n",
       "    <tr>\n",
       "      <th>8</th>\n",
       "      <td>author_date</td>\n",
       "      <td>timestamp</td>\n",
       "      <td></td>\n",
       "    </tr>\n",
       "    <tr>\n",
       "      <th>9</th>\n",
       "      <td>_fivetran_synced</td>\n",
       "      <td>timestamp</td>\n",
       "      <td></td>\n",
       "    </tr>\n",
       "    <tr>\n",
       "      <th>10</th>\n",
       "      <td></td>\n",
       "      <td></td>\n",
       "      <td></td>\n",
       "    </tr>\n",
       "    <tr>\n",
       "      <th>11</th>\n",
       "      <td># Partitioning</td>\n",
       "      <td></td>\n",
       "      <td></td>\n",
       "    </tr>\n",
       "    <tr>\n",
       "      <th>12</th>\n",
       "      <td>Not partitioned</td>\n",
       "      <td></td>\n",
       "      <td></td>\n",
       "    </tr>\n",
       "    <tr>\n",
       "      <th>13</th>\n",
       "      <td></td>\n",
       "      <td></td>\n",
       "      <td></td>\n",
       "    </tr>\n",
       "    <tr>\n",
       "      <th>14</th>\n",
       "      <td># Metadata Columns</td>\n",
       "      <td></td>\n",
       "      <td></td>\n",
       "    </tr>\n",
       "    <tr>\n",
       "      <th>15</th>\n",
       "      <td>_spec_id</td>\n",
       "      <td>int</td>\n",
       "      <td></td>\n",
       "    </tr>\n",
       "    <tr>\n",
       "      <th>16</th>\n",
       "      <td>_partition</td>\n",
       "      <td>struct&lt;&gt;</td>\n",
       "      <td></td>\n",
       "    </tr>\n",
       "    <tr>\n",
       "      <th>17</th>\n",
       "      <td>_file</td>\n",
       "      <td>string</td>\n",
       "      <td></td>\n",
       "    </tr>\n",
       "    <tr>\n",
       "      <th>18</th>\n",
       "      <td>_pos</td>\n",
       "      <td>bigint</td>\n",
       "      <td></td>\n",
       "    </tr>\n",
       "    <tr>\n",
       "      <th>19</th>\n",
       "      <td>_deleted</td>\n",
       "      <td>boolean</td>\n",
       "      <td></td>\n",
       "    </tr>\n",
       "    <tr>\n",
       "      <th>20</th>\n",
       "      <td></td>\n",
       "      <td></td>\n",
       "      <td></td>\n",
       "    </tr>\n",
       "    <tr>\n",
       "      <th>21</th>\n",
       "      <td># Detailed Table Information</td>\n",
       "      <td></td>\n",
       "      <td></td>\n",
       "    </tr>\n",
       "    <tr>\n",
       "      <th>22</th>\n",
       "      <td>Name</td>\n",
       "      <td>spark_catalog.github_raw.commit</td>\n",
       "      <td></td>\n",
       "    </tr>\n",
       "    <tr>\n",
       "      <th>23</th>\n",
       "      <td>Location</td>\n",
       "      <td>file:/home/manhtct/innoorient/inno_syncer/spar...</td>\n",
       "      <td></td>\n",
       "    </tr>\n",
       "    <tr>\n",
       "      <th>24</th>\n",
       "      <td>Provider</td>\n",
       "      <td>iceberg</td>\n",
       "      <td></td>\n",
       "    </tr>\n",
       "    <tr>\n",
       "      <th>25</th>\n",
       "      <td>Owner</td>\n",
       "      <td>manhtct</td>\n",
       "      <td></td>\n",
       "    </tr>\n",
       "    <tr>\n",
       "      <th>26</th>\n",
       "      <td>Table Properties</td>\n",
       "      <td>[current-snapshot-id=6782685386683357026,forma...</td>\n",
       "      <td></td>\n",
       "    </tr>\n",
       "  </tbody>\n",
       "</table>\n",
       "</div>"
      ],
      "text/plain": [
       "                        col_name  \\\n",
       "0                            sha   \n",
       "1                  repository_id   \n",
       "2                 committer_date   \n",
       "3                   author_email   \n",
       "4                    author_name   \n",
       "5                committer_email   \n",
       "6                 committer_name   \n",
       "7                        message   \n",
       "8                    author_date   \n",
       "9               _fivetran_synced   \n",
       "10                                 \n",
       "11                # Partitioning   \n",
       "12               Not partitioned   \n",
       "13                                 \n",
       "14            # Metadata Columns   \n",
       "15                      _spec_id   \n",
       "16                    _partition   \n",
       "17                         _file   \n",
       "18                          _pos   \n",
       "19                      _deleted   \n",
       "20                                 \n",
       "21  # Detailed Table Information   \n",
       "22                          Name   \n",
       "23                      Location   \n",
       "24                      Provider   \n",
       "25                         Owner   \n",
       "26              Table Properties   \n",
       "\n",
       "                                            data_type comment  \n",
       "0                                              string          \n",
       "1                                              bigint          \n",
       "2                                           timestamp          \n",
       "3                                              string          \n",
       "4                                              string          \n",
       "5                                              string          \n",
       "6                                              string          \n",
       "7                                              string          \n",
       "8                                           timestamp          \n",
       "9                                           timestamp          \n",
       "10                                                             \n",
       "11                                                             \n",
       "12                                                             \n",
       "13                                                             \n",
       "14                                                             \n",
       "15                                                int          \n",
       "16                                           struct<>          \n",
       "17                                             string          \n",
       "18                                             bigint          \n",
       "19                                            boolean          \n",
       "20                                                             \n",
       "21                                                             \n",
       "22                    spark_catalog.github_raw.commit          \n",
       "23  file:/home/manhtct/innoorient/inno_syncer/spar...          \n",
       "24                                            iceberg          \n",
       "25                                            manhtct          \n",
       "26  [current-snapshot-id=6782685386683357026,forma...          "
      ]
     },
     "execution_count": 12,
     "metadata": {},
     "output_type": "execute_result"
    }
   ],
   "source": [
    "spark.sql(\"DESC TABLE EXTENDED spark_catalog.github_raw.commit;\").toPandas()"
   ]
  },
  {
   "cell_type": "code",
   "execution_count": 14,
   "metadata": {},
   "outputs": [
    {
     "name": "stdout",
     "output_type": "stream",
     "text": [
      "+--------------------+-------------------+---------+-------------------+\n",
      "|     made_current_at|        snapshot_id|parent_id|is_current_ancestor|\n",
      "+--------------------+-------------------+---------+-------------------+\n",
      "|2024-03-30 14:37:...|6782685386683357026|     null|               true|\n",
      "+--------------------+-------------------+---------+-------------------+\n",
      "\n"
     ]
    }
   ],
   "source": [
    "spark.sql(\"SELECT * FROM spark_catalog.github_raw.commit.history\").show()"
   ]
  }
 ],
 "metadata": {
  "kernelspec": {
   "display_name": ".venv",
   "language": "python",
   "name": "python3"
  },
  "language_info": {
   "codemirror_mode": {
    "name": "ipython",
    "version": 3
   },
   "file_extension": ".py",
   "mimetype": "text/x-python",
   "name": "python",
   "nbconvert_exporter": "python",
   "pygments_lexer": "ipython3",
   "version": "3.10.12"
  }
 },
 "nbformat": 4,
 "nbformat_minor": 2
}
